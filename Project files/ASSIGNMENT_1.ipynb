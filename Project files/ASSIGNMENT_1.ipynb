{
  "nbformat": 4,
  "nbformat_minor": 0,
  "metadata": {
    "colab": {
      "provenance": []
    },
    "kernelspec": {
      "name": "python3",
      "display_name": "Python 3"
    },
    "language_info": {
      "name": "python"
    }
  },
  "cells": [
    {
      "cell_type": "code",
      "execution_count": null,
      "metadata": {
        "colab": {
          "base_uri": "https://localhost:8080/"
        },
        "id": "8TTcViPFwn1H",
        "outputId": "5c4b0281-c28a-4ac7-cef1-006687af8806"
      },
      "outputs": [
        {
          "output_type": "execute_result",
          "data": {
            "text/plain": [
              "[1, 9, 8, 4, 0, 2, 3, 7, 6, 5]"
            ]
          },
          "metadata": {},
          "execution_count": 1
        }
      ],
      "source": [
        "#Task 1--\n",
        "a=[1,9,8,4,0]\n",
        "b=[2,3,7,6,5]\n",
        "a+b"
      ]
    },
    {
      "cell_type": "code",
      "source": [
        "#Task 2--\n",
        "\n",
        "num= int(input(\"Enter your number: \"))\n",
        "if  (num%2) == 0:\n",
        "    print(\"{0} is Even\".format(num))\n",
        "else:\n",
        "  print(\" is odd\".format(num))"
      ],
      "metadata": {
        "colab": {
          "base_uri": "https://localhost:8080/"
        },
        "id": "CqoQVwjexLme",
        "outputId": "efdeaafc-3083-4766-b256-b77dde8e0398"
      },
      "execution_count": null,
      "outputs": [
        {
          "output_type": "stream",
          "name": "stdout",
          "text": [
            "Enter your number: 9\n",
            " is odd\n"
          ]
        }
      ]
    },
    {
      "cell_type": "code",
      "source": [
        "#Task 3--\n",
        "d1 = {'S.no':[1,2,3],'Name':['Praveen','Jayanth','Ravi'],'Rollno':[7,8,25]}\n",
        "d1\n",
        "\n",
        "\n",
        "{'S.no':[1,2,3],\n",
        "  'Name': ['Praveen','Jayanth','Ravi'],\n",
        "   'Rollno':[7,8,25]}"
      ],
      "metadata": {
        "colab": {
          "base_uri": "https://localhost:8080/"
        },
        "id": "vy_AvDcr0PD_",
        "outputId": "e2d3cb0b-47ae-42de-cb61-9c7513c9400e"
      },
      "execution_count": null,
      "outputs": [
        {
          "output_type": "execute_result",
          "data": {
            "text/plain": [
              "{'S.no': [1, 2, 3],\n",
              " 'Name': ['Praveen', 'Jayanth', 'Ravi'],\n",
              " 'Rollno': [7, 8, 25]}"
            ]
          },
          "metadata": {},
          "execution_count": 18
        }
      ]
    },
    {
      "cell_type": "code",
      "source": [
        "#Task 4--\n",
        "def find_odd_number(start, end):\n",
        "  for num in range(start, end + 1):\n",
        "    if num % 2 != 0:\n",
        "      print(num)\n",
        "\n",
        "find_odd_number(1,10)"
      ],
      "metadata": {
        "colab": {
          "base_uri": "https://localhost:8080/"
        },
        "id": "FBL4a5PhEp4x",
        "outputId": "64bb0ffa-0881-41af-b36e-f0d9ea275786"
      },
      "execution_count": null,
      "outputs": [
        {
          "output_type": "stream",
          "name": "stdout",
          "text": [
            "1\n",
            "3\n",
            "5\n",
            "7\n",
            "9\n"
          ]
        }
      ]
    },
    {
      "cell_type": "code",
      "source": [
        "#Task 5--\n",
        "def sum(numbers):\n",
        "  total = 0\n",
        "  for x in numbers:\n",
        "    total += x\n",
        "  return total\n",
        "print(sum((8,2,3,0,7)))"
      ],
      "metadata": {
        "colab": {
          "base_uri": "https://localhost:8080/"
        },
        "id": "dxDG0etMF4Kc",
        "outputId": "860b110b-5344-44e8-b3c7-3989d7b3b87f"
      },
      "execution_count": null,
      "outputs": [
        {
          "output_type": "stream",
          "name": "stdout",
          "text": [
            "20\n"
          ]
        }
      ]
    }
  ]
}